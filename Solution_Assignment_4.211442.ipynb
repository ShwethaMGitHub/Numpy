{
 "cells": [
  {
   "cell_type": "markdown",
   "metadata": {},
   "source": [
    "Write a function to find moving average in an array over a window:\n",
    "Test it over [3, 5, 7, 2, 8, 10, 11, 65, 72, 81, 99, 100, 150] and window of 3."
   ]
  },
  {
   "cell_type": "code",
   "execution_count": 39,
   "metadata": {},
   "outputs": [
    {
     "name": "stdout",
     "output_type": "stream",
     "text": [
      "11\n",
      "If the average is needed with decimal value\n",
      "_____________________________________________\n",
      "y[1] = 5.000000\n",
      "y[2] = 4.666667\n",
      "y[3] = 5.666667\n",
      "y[4] = 6.666667\n",
      "y[5] = 9.666667\n",
      "y[6] = 28.666667\n",
      "y[7] = 49.333333\n",
      "y[8] = 72.666667\n",
      "y[9] = 84.000000\n",
      "y[10] = 93.333333\n",
      "y[11] = 116.333333\n",
      "_____________________________________________\n",
      "If the average is needed as integer\n",
      "y[1] = 5.000000\n",
      "y[2] = 4.666667\n",
      "y[3] = 5.666667\n",
      "y[4] = 6.666667\n",
      "y[5] = 9.666667\n",
      "y[6] = 28.666667\n",
      "y[7] = 49.333333\n",
      "y[8] = 72.666667\n",
      "y[9] = 84.000000\n",
      "y[10] = 93.333333\n",
      "y[11] = 116.333333\n"
     ]
    }
   ],
   "source": [
    "import numpy as np\n",
    "x = np.array([3, 5, 7, 2, 8, 10, 11, 65, 72, 81, 99, 100, 150])\n",
    "\n",
    "k = 3\n",
    "\n",
    "seq = x.size-k+1\n",
    "print(seq)\n",
    "\n",
    "y = []\n",
    "\n",
    "print(\"If the average is needed with decimal value\")\n",
    "print('_'*45)\n",
    "for i in range(seq):\n",
    "        y.append((x[i] + x[i+1] + x[i+2])/k)\n",
    "        print('y[%d] = %f' %(i+1,y[i]))\n",
    "        \n",
    "print('_'*45)\n",
    "print(\"If the average is needed as integer\")\n",
    "\n",
    "for i in range(seq):\n",
    "        y.append(int((x[i] + x[i+1] + x[i+2])/k))\n",
    "        print('y[%d] = %f' %(i+1,y[i]))"
   ]
  },
  {
   "cell_type": "code",
   "execution_count": null,
   "metadata": {},
   "outputs": [],
   "source": []
  },
  {
   "cell_type": "code",
   "execution_count": null,
   "metadata": {},
   "outputs": [],
   "source": []
  }
 ],
 "metadata": {
  "kernelspec": {
   "display_name": "Python 3",
   "language": "python",
   "name": "python3"
  },
  "language_info": {
   "codemirror_mode": {
    "name": "ipython",
    "version": 3
   },
   "file_extension": ".py",
   "mimetype": "text/x-python",
   "name": "python",
   "nbconvert_exporter": "python",
   "pygments_lexer": "ipython3",
   "version": "3.7.0"
  }
 },
 "nbformat": 4,
 "nbformat_minor": 2
}
